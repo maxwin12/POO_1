{
  "nbformat": 4,
  "nbformat_minor": 0,
  "metadata": {
    "colab": {
      "provenance": []
    },
    "kernelspec": {
      "name": "python3",
      "display_name": "Python 3"
    },
    "language_info": {
      "name": "python"
    }
  },
  "cells": [
    {
      "cell_type": "code",
      "execution_count": null,
      "metadata": {
        "id": "8_mvKN4-UjUz"
      },
      "outputs": [],
      "source": []
    },
    {
      "cell_type": "markdown",
      "source": [
        "# introducción a objetos.\n",
        "\n",
        "Los primeros objetos que veremos son:\n",
        "\n",
        "1.   Números (int, float), strings (\"Hola\").\n",
        "2.   Listas.\n",
        "3.   Variables.\n",
        "\n",
        "\n",
        "\n",
        "\n",
        "Referencia: [Python OOP](https://www.geeksforgeeks.org/python-oops-concepts/)"
      ],
      "metadata": {
        "id": "CnhauewLU6eV"
      }
    },
    {
      "cell_type": "markdown",
      "source": [
        "Hay funciones que estan creadas dentro de Python.\n"
      ],
      "metadata": {
        "id": "1lgW9JCRX8ic"
      }
    },
    {
      "cell_type": "code",
      "source": [
        "5+2 # La suma de números"
      ],
      "metadata": {
        "colab": {
          "base_uri": "https://localhost:8080/"
        },
        "id": "VIiv821YWeb-",
        "outputId": "98a6bf06-2478-4a0c-d5c9-f97db578122d"
      },
      "execution_count": 1,
      "outputs": [
        {
          "output_type": "execute_result",
          "data": {
            "text/plain": [
              "7"
            ]
          },
          "metadata": {},
          "execution_count": 1
        }
      ]
    },
    {
      "cell_type": "code",
      "source": [
        "5*7 # Multiplicaciôn"
      ],
      "metadata": {
        "colab": {
          "base_uri": "https://localhost:8080/"
        },
        "id": "i8qNiH0DYJE9",
        "outputId": "be1159c2-bf33-4372-bc05-2ea43df58fa2"
      },
      "execution_count": 2,
      "outputs": [
        {
          "output_type": "execute_result",
          "data": {
            "text/plain": [
              "35"
            ]
          },
          "metadata": {},
          "execution_count": 2
        }
      ]
    },
    {
      "cell_type": "code",
      "source": [
        "8**5 # Potencis"
      ],
      "metadata": {
        "colab": {
          "base_uri": "https://localhost:8080/"
        },
        "id": "qtrjcSJCYWl2",
        "outputId": "ac3832c4-bdb9-48f1-b262-5bd97434e276"
      },
      "execution_count": 3,
      "outputs": [
        {
          "output_type": "execute_result",
          "data": {
            "text/plain": [
              "32768"
            ]
          },
          "metadata": {},
          "execution_count": 3
        }
      ]
    },
    {
      "cell_type": "code",
      "source": [
        "2/2 # División"
      ],
      "metadata": {
        "colab": {
          "base_uri": "https://localhost:8080/"
        },
        "id": "dVRs4TbWYsui",
        "outputId": "1fb9ad14-4255-40f9-a26e-8ae06992a883"
      },
      "execution_count": 4,
      "outputs": [
        {
          "output_type": "execute_result",
          "data": {
            "text/plain": [
              "1.0"
            ]
          },
          "metadata": {},
          "execution_count": 4
        }
      ]
    },
    {
      "cell_type": "code",
      "source": [
        "3%2 # Operación mudular (residuo)"
      ],
      "metadata": {
        "colab": {
          "base_uri": "https://localhost:8080/"
        },
        "id": "S_QXCXNpY0Jj",
        "outputId": "d6ae71b2-ca6d-4cdb-af39-524d7c9fd327"
      },
      "execution_count": 5,
      "outputs": [
        {
          "output_type": "execute_result",
          "data": {
            "text/plain": [
              "1"
            ]
          },
          "metadata": {},
          "execution_count": 5
        }
      ]
    },
    {
      "cell_type": "markdown",
      "source": [
        "Una ecuación:\n",
        "$$ax^2+bx+c=0$$\n",
        "\n",
        "LaTeX\n",
        "\n",
        "$$e^{i/pi}+1+0$$"
      ],
      "metadata": {
        "id": "fcDcUTbDZSLN"
      }
    },
    {
      "cell_type": "code",
      "source": [
        "5//2 # División al piso"
      ],
      "metadata": {
        "colab": {
          "base_uri": "https://localhost:8080/"
        },
        "id": "mKWNX-Lli2CB",
        "outputId": "156bcc2e-6c4e-40d5-ed31-2189c19cbfa0"
      },
      "execution_count": 6,
      "outputs": [
        {
          "output_type": "execute_result",
          "data": {
            "text/plain": [
              "2"
            ]
          },
          "metadata": {},
          "execution_count": 6
        }
      ]
    },
    {
      "cell_type": "code",
      "source": [
        "print(\"Hola mundo\") # print funciona para escribir en la consola"
      ],
      "metadata": {
        "colab": {
          "base_uri": "https://localhost:8080/"
        },
        "id": "rWFCb7WKjptI",
        "outputId": "a7c8a03f-3db1-46c0-e859-18cde93fa16c"
      },
      "execution_count": 7,
      "outputs": [
        {
          "output_type": "stream",
          "name": "stdout",
          "text": [
            "Hola mundo\n"
          ]
        }
      ]
    },
    {
      "cell_type": "code",
      "source": [
        "#asignacion de variable\n",
        "nombre = \"Max\"\n",
        "print(nombre)"
      ],
      "metadata": {
        "colab": {
          "base_uri": "https://localhost:8080/"
        },
        "id": "bQ677PRikVy9",
        "outputId": "f246db33-8b3d-4ef7-ad10-4cd545c29f78"
      },
      "execution_count": 8,
      "outputs": [
        {
          "output_type": "stream",
          "name": "stdout",
          "text": [
            "Max\n"
          ]
        }
      ]
    },
    {
      "cell_type": "markdown",
      "source": [
        "Función type dice que tipo de objeto esta escrito"
      ],
      "metadata": {
        "id": "1RIrMenHlgq7"
      }
    },
    {
      "cell_type": "code",
      "source": [
        "type(6//2) # 6 dividido al piso entre 2 es igual a 3 y por eso da int\n"
      ],
      "metadata": {
        "colab": {
          "base_uri": "https://localhost:8080/"
        },
        "id": "TQ4b_XQClzD0",
        "outputId": "f53ebe12-9a48-4c2b-eb18-3bf9e43fd9b5"
      },
      "execution_count": 9,
      "outputs": [
        {
          "output_type": "execute_result",
          "data": {
            "text/plain": [
              "int"
            ]
          },
          "metadata": {},
          "execution_count": 9
        }
      ]
    },
    {
      "cell_type": "code",
      "source": [
        "print(type(2/5)) # float 2.5 Decimal\n",
        "print(type(nombre)) # str es por cadena de texto\n",
        "print(type(2//5)) # division al piso 0 y es entero"
      ],
      "metadata": {
        "colab": {
          "base_uri": "https://localhost:8080/"
        },
        "id": "f6RxxgmknAOH",
        "outputId": "c2d9f638-cf4a-4b56-8821-212cec49f4cb"
      },
      "execution_count": 10,
      "outputs": [
        {
          "output_type": "stream",
          "name": "stdout",
          "text": [
            "<class 'float'>\n",
            "<class 'str'>\n",
            "<class 'int'>\n"
          ]
        }
      ]
    },
    {
      "cell_type": "markdown",
      "source": [
        "## Listas\n",
        "\n",
        "Las listas son objetos que se escriben con [ ]"
      ],
      "metadata": {
        "id": "LdjPy3b5FImx"
      }
    },
    {
      "cell_type": "code",
      "source": [
        "L = [] # Declaramos una lista\n",
        "\n",
        "type(L) #Nos dice qué tipo de objeto\n"
      ],
      "metadata": {
        "colab": {
          "base_uri": "https://localhost:8080/"
        },
        "id": "xivUy6OGGEYr",
        "outputId": "d1f54352-a9a4-48b3-b2ee-2e5010ca67ed"
      },
      "execution_count": 11,
      "outputs": [
        {
          "output_type": "execute_result",
          "data": {
            "text/plain": [
              "list"
            ]
          },
          "metadata": {},
          "execution_count": 11
        }
      ]
    },
    {
      "cell_type": "code",
      "source": [
        "# La función range() (es un generador de etiquetas)\n",
        "\n",
        "range(10)"
      ],
      "metadata": {
        "colab": {
          "base_uri": "https://localhost:8080/"
        },
        "id": "raNSmc2jGos4",
        "outputId": "b41493f9-e3bc-4b79-e31f-3f09aabaa3e1"
      },
      "execution_count": 12,
      "outputs": [
        {
          "output_type": "execute_result",
          "data": {
            "text/plain": [
              "range(0, 10)"
            ]
          },
          "metadata": {},
          "execution_count": 12
        }
      ]
    },
    {
      "cell_type": "code",
      "source": [
        "for i in range(10): # estamos iteranado i en un rango del 0 al 9\n",
        "  L.append(i) # estamos agregando los elementos a la lista L\n",
        "print(L)"
      ],
      "metadata": {
        "colab": {
          "base_uri": "https://localhost:8080/"
        },
        "id": "55cJZfqeHsAm",
        "outputId": "0e6b2979-6e30-4021-8660-978fbbc8a918"
      },
      "execution_count": 14,
      "outputs": [
        {
          "output_type": "stream",
          "name": "stdout",
          "text": [
            "[1, 2, 3, 4, 6, 7, 0, 1, 2, 3, 4, 5, 6, 7, 8, 9]\n"
          ]
        }
      ]
    },
    {
      "cell_type": "markdown",
      "source": [
        "## Accesos de una lista"
      ],
      "metadata": {
        "id": "hoguCwJuKKTE"
      }
    },
    {
      "cell_type": "code",
      "source": [
        "L[0:4] # definimos el rango con :"
      ],
      "metadata": {
        "colab": {
          "base_uri": "https://localhost:8080/"
        },
        "id": "BrsO-OMdL5ZS",
        "outputId": "2c8b297d-4c24-4339-814a-e6b4958731a4"
      },
      "execution_count": 16,
      "outputs": [
        {
          "output_type": "execute_result",
          "data": {
            "text/plain": [
              "[1, 2, 3, 4]"
            ]
          },
          "metadata": {},
          "execution_count": 16
        }
      ]
    },
    {
      "cell_type": "code",
      "source": [
        "L[:5] # tomamos el primer valor como 0"
      ],
      "metadata": {
        "colab": {
          "base_uri": "https://localhost:8080/"
        },
        "id": "AGrQzSwwMbuF",
        "outputId": "1230ac27-c1f2-4e33-96e8-a6764417c4c4"
      },
      "execution_count": 18,
      "outputs": [
        {
          "output_type": "execute_result",
          "data": {
            "text/plain": [
              "[1, 2, 3, 4, 6]"
            ]
          },
          "metadata": {},
          "execution_count": 18
        }
      ]
    },
    {
      "cell_type": "code",
      "source": [
        "L[3:] # recorremos desde un valor dado al final de la lista"
      ],
      "metadata": {
        "colab": {
          "base_uri": "https://localhost:8080/"
        },
        "id": "ArmyxMp3Mg4d",
        "outputId": "9bb6e177-bb9d-4e64-d0c2-5e2e07304544"
      },
      "execution_count": 19,
      "outputs": [
        {
          "output_type": "execute_result",
          "data": {
            "text/plain": [
              "[4, 6, 7, 0, 1, 2, 3, 4, 5, 6, 7, 8, 9]"
            ]
          },
          "metadata": {},
          "execution_count": 19
        }
      ]
    },
    {
      "cell_type": "code",
      "source": [
        "P = [] # definir lista\n",
        "for i in L:\n",
        "  if i % 2 == 0: # iteramoslos elementos de la lista y vemos si son divisibles entre 2\n",
        "    P.append(i) # de ser cierto los agrtegamos a lista P\n",
        "P\n"
      ],
      "metadata": {
        "colab": {
          "base_uri": "https://localhost:8080/"
        },
        "id": "sFhfcnlUMr0f",
        "outputId": "ee951b86-9887-46b6-8845-55c98a4bf525"
      },
      "execution_count": 23,
      "outputs": [
        {
          "output_type": "execute_result",
          "data": {
            "text/plain": [
              "[2, 4, 6, 0, 2, 4, 6, 8]"
            ]
          },
          "metadata": {},
          "execution_count": 23
        }
      ]
    },
    {
      "cell_type": "code",
      "source": [
        "I = [i for i in L if i%2==1] # Funcion logica para crear lista de números primos\n",
        "I"
      ],
      "metadata": {
        "colab": {
          "base_uri": "https://localhost:8080/"
        },
        "id": "_yiJhGwkPBDP",
        "outputId": "4223c07d-c479-41d4-a671-1eea1d276273"
      },
      "execution_count": 24,
      "outputs": [
        {
          "output_type": "execute_result",
          "data": {
            "text/plain": [
              "[1, 3, 7, 1, 3, 5, 7, 9]"
            ]
          },
          "metadata": {},
          "execution_count": 24
        }
      ]
    },
    {
      "cell_type": "code",
      "source": [
        "P + I # Concatenar las listas"
      ],
      "metadata": {
        "colab": {
          "base_uri": "https://localhost:8080/"
        },
        "id": "YuT2AOVBPsgA",
        "outputId": "be907073-1825-4807-a881-1be15f95c56e"
      },
      "execution_count": 28,
      "outputs": [
        {
          "output_type": "execute_result",
          "data": {
            "text/plain": [
              "[2, 4, 6, 0, 2, 4, 6, 8, 1, 3, 7, 1, 3, 5, 7, 9]"
            ]
          },
          "metadata": {},
          "execution_count": 28
        }
      ]
    },
    {
      "cell_type": "markdown",
      "source": [
        "## Conjuntos"
      ],
      "metadata": {
        "id": "QiE2Qg1IQCUg"
      }
    },
    {
      "cell_type": "code",
      "source": [
        "sP = set(P) # Crear conjunto partir de la lista P con set()\n",
        "sI = set(I) # Crear conjunto partir de la lista I con set()\n",
        "\n",
        "print(sP)\n",
        "print(sI)"
      ],
      "metadata": {
        "colab": {
          "base_uri": "https://localhost:8080/"
        },
        "id": "b3zvCmvXQB0s",
        "outputId": "f88e1a9b-5832-43ac-d91b-66416f49b48b"
      },
      "execution_count": 29,
      "outputs": [
        {
          "output_type": "stream",
          "name": "stdout",
          "text": [
            "{0, 2, 4, 6, 8}\n",
            "{1, 3, 5, 7, 9}\n"
          ]
        }
      ]
    },
    {
      "cell_type": "code",
      "source": [
        "sP.intersection(sI) # Intersección entre conjunto sP con sI"
      ],
      "metadata": {
        "colab": {
          "base_uri": "https://localhost:8080/"
        },
        "id": "7HjTZHjeQase",
        "outputId": "0ff80eb2-d14c-4104-ab22-eda8bc73613c"
      },
      "execution_count": 30,
      "outputs": [
        {
          "output_type": "execute_result",
          "data": {
            "text/plain": [
              "set()"
            ]
          },
          "metadata": {},
          "execution_count": 30
        }
      ]
    },
    {
      "cell_type": "code",
      "source": [
        "sP.union(sI) # Unión de conjuntos entre sP y sI"
      ],
      "metadata": {
        "colab": {
          "base_uri": "https://localhost:8080/"
        },
        "id": "sZP3IeGeQrx4",
        "outputId": "1469ba03-b0b9-4c59-ae10-19bab3a4c3ab"
      },
      "execution_count": 31,
      "outputs": [
        {
          "output_type": "execute_result",
          "data": {
            "text/plain": [
              "{0, 1, 2, 3, 4, 5, 6, 7, 8, 9}"
            ]
          },
          "metadata": {},
          "execution_count": 31
        }
      ]
    }
  ]
}